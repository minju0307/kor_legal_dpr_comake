{
 "cells": [
  {
   "cell_type": "code",
   "execution_count": 1,
   "id": "3b1d3d0b-99d4-40b1-962b-2638af0ccb97",
   "metadata": {},
   "outputs": [],
   "source": [
    "def match_knowledge(ref_objs, pred_objs):\n",
    "    \n",
    "    num_matched = 0\n",
    "    for ref in ref_objs:\n",
    "        for pred in pred_objs:\n",
    "            if ref == pred:\n",
    "                num_matched += 1\n",
    "\n",
    "    tp = num_matched\n",
    "    fp = len(pred_objs) - num_matched\n",
    "    fn = len(ref_objs) - num_matched\n",
    "\n",
    "    if len(ref_objs) == len(pred_objs) and len(ref_objs) == tp:\n",
    "        exact_matched = 1\n",
    "    else:\n",
    "        exact_matched = 0\n",
    "\n",
    "    return (tp, fp, fn, exact_matched)"
   ]
  },
  {
   "cell_type": "code",
   "execution_count": 90,
   "id": "47aa53e4-e362-458d-9ec1-de48eeb66261",
   "metadata": {},
   "outputs": [],
   "source": [
    "import pandas as pd\n",
    "\n",
    "results_df=pd.read_csv('retrieval_results_best_version_lawberta_45/question_45_5.csv') ## 확인하고자 하는 result df \n",
    "reference = results_df['ref'].tolist()\n",
    "reference = [r.split('\\n') if not type(r)==int else [str(r)] for r in reference]\n",
    "predict = results_df['pred'].tolist()\n",
    "predict = [p.split('\\n') if type(p)==str else ['None'] for p in predict]"
   ]
  },
  {
   "cell_type": "code",
   "execution_count": 91,
   "id": "41cd6370-7e46-416b-935c-48467a53cd26",
   "metadata": {},
   "outputs": [
    {
     "data": {
      "text/plain": [
       "45"
      ]
     },
     "execution_count": 91,
     "metadata": {},
     "output_type": "execute_result"
    }
   ],
   "source": [
    "len(reference)"
   ]
  },
  {
   "cell_type": "code",
   "execution_count": 92,
   "id": "16034759-f4a7-4431-9cf5-afd6cdab7bed",
   "metadata": {},
   "outputs": [
    {
     "data": {
      "text/plain": [
       "45"
      ]
     },
     "execution_count": 92,
     "metadata": {},
     "output_type": "execute_result"
    }
   ],
   "source": [
    "len(predict)"
   ]
  },
  {
   "cell_type": "code",
   "execution_count": 93,
   "id": "9b0e1c92-c104-4007-8cf1-1f339a0b7653",
   "metadata": {},
   "outputs": [],
   "source": [
    "all_tp=0.0\n",
    "all_fp=0.0\n",
    "all_fn=0.0\n",
    "all_em=0.0\n",
    "\n",
    "for idx, ref_objs in enumerate(reference):\n",
    "    tp, fp, fn, em = match_knowledge(reference[idx], predict[idx])\n",
    "    all_tp+=tp\n",
    "    all_fp+=fp\n",
    "    all_fn+=fn\n",
    "    all_em+=em\n",
    "\n",
    "if all_tp + all_fp > 0:\n",
    "    precision = all_tp / (all_tp + all_fp)\n",
    "else:\n",
    "    precision = 0.0\n",
    "\n",
    "if all_tp + all_fn > 0:\n",
    "    recall = all_tp / (all_tp + all_fn)\n",
    "else:\n",
    "    recall=0.0\n",
    "\n",
    "if precision+recall > 0.0:\n",
    "    f1_score = 2 * precision * recall / (precision + recall)\n",
    "else:\n",
    "    f1_score = 0.0\n",
    "\n",
    "exact_match = all_em / len(reference) "
   ]
  },
  {
   "cell_type": "code",
   "execution_count": 89,
   "id": "58bc6ecd-ce38-4719-9edd-518dcdce5ece",
   "metadata": {},
   "outputs": [
    {
     "name": "stdout",
     "output_type": "stream",
     "text": [
      "0.11851851851851852\n",
      "0.35555555555555557\n",
      "0.17777777777777778\n",
      "0.0\n"
     ]
    }
   ],
   "source": [
    "## top-3 search\n",
    "\n",
    "print(precision)\n",
    "print(recall)\n",
    "print(f1_score)\n",
    "print(exact_match)"
   ]
  },
  {
   "cell_type": "code",
   "execution_count": 94,
   "id": "a45da06c-9136-4954-9088-f7dc6e291bb0",
   "metadata": {},
   "outputs": [
    {
     "name": "stdout",
     "output_type": "stream",
     "text": [
      "0.08\n",
      "0.4\n",
      "0.13333333333333333\n",
      "0.0\n"
     ]
    }
   ],
   "source": [
    "## top-5 search\n",
    "\n",
    "print(precision)\n",
    "print(recall)\n",
    "print(f1_score)\n",
    "print(exact_match)"
   ]
  },
  {
   "cell_type": "code",
   "execution_count": 79,
   "id": "9ccd041b",
   "metadata": {},
   "outputs": [
    {
     "name": "stdout",
     "output_type": "stream",
     "text": [
      "0.08571428571428572\n",
      "0.6\n",
      "0.15\n",
      "0.0\n"
     ]
    }
   ],
   "source": [
    "## top-7 search\n",
    "\n",
    "print(precision)\n",
    "print(recall)\n",
    "print(f1_score)\n",
    "print(exact_match)"
   ]
  },
  {
   "cell_type": "code",
   "execution_count": 84,
   "id": "445d569c-4321-4a17-9c36-52609670cbd7",
   "metadata": {},
   "outputs": [
    {
     "name": "stdout",
     "output_type": "stream",
     "text": [
      "0.07555555555555556\n",
      "0.7555555555555555\n",
      "0.13737373737373737\n",
      "0.0\n"
     ]
    }
   ],
   "source": [
    "## top-10 search\n",
    "\n",
    "print(precision)\n",
    "print(recall)\n",
    "print(f1_score)\n",
    "print(exact_match)"
   ]
  },
  {
   "cell_type": "code",
   "execution_count": null,
   "id": "a50127ff-2692-4284-bbdf-953e4841aad4",
   "metadata": {},
   "outputs": [],
   "source": []
  }
 ],
 "metadata": {
  "kernelspec": {
   "display_name": "Python 3 (ipykernel)",
   "language": "python",
   "name": "python3"
  },
  "language_info": {
   "codemirror_mode": {
    "name": "ipython",
    "version": 3
   },
   "file_extension": ".py",
   "mimetype": "text/x-python",
   "name": "python",
   "nbconvert_exporter": "python",
   "pygments_lexer": "ipython3",
   "version": "3.8.10"
  }
 },
 "nbformat": 4,
 "nbformat_minor": 5
}
